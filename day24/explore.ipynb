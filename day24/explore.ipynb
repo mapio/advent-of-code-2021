{
 "cells": [
  {
   "cell_type": "code",
   "execution_count": null,
   "metadata": {},
   "outputs": [],
   "source": [
    "from operator import add, mul, floordiv, mod, eq\n",
    "\n",
    "OP = {\n",
    "  'add': add,\n",
    "  'mul': mul,\n",
    "  'div': floordiv,\n",
    "  'mod': mod,\n",
    "  'eql': lambda a, b: 1 * (a == b)\n",
    "}\n"
   ]
  },
  {
   "cell_type": "code",
   "execution_count": null,
   "metadata": {},
   "outputs": [],
   "source": [
    "def mk_istr(args):\n",
    "  if args[0] == 'inp':\n",
    "    _, a = args\n",
    "    def _inp(mem, ig):\n",
    "      mem[a] = int(next(ig))\n",
    "      print(f'inp {a} => {mem[a]}')\n",
    "    return _inp\n",
    "  else:\n",
    "    op, a, b = args\n",
    "    def _op(mem, ig):\n",
    "      mem[a] = OP[op](mem[a], mem[b] if b in mem else int(b))\n",
    "      print(f'{op} {a} {b} => {mem[a]}')\n",
    "    return _op"
   ]
  },
  {
   "cell_type": "code",
   "execution_count": null,
   "metadata": {},
   "outputs": [],
   "source": [
    "SRC = \"\"\"\n",
    "inp w\n",
    "mul x 0\n",
    "add x z\n",
    "mod x 26\n",
    "div z 1\n",
    "add x 13\n",
    "eql x w\n",
    "eql x 0\n",
    "mul y 0\n",
    "add y 25\n",
    "mul y x\n",
    "add y 1\n",
    "mul z y\n",
    "mul y 0\n",
    "add y w\n",
    "add y 13\n",
    "mul y x\n",
    "add z y\n",
    "\"\"\"\n",
    "\n",
    "PRG = []\n",
    "for line in SRC.splitlines():\n",
    "  PRG.append(mk_istr(line.strip().split()))\n",
    "\n",
    "MEM = dict(zip('wxyz', [0] * 4))\n",
    "#          12345678901234\n",
    "ig = iter('11111111111113')\n",
    "for istr in PRG:\n",
    "  istr(MEM, ig)\n",
    "print(MEM)\n"
   ]
  }
 ],
 "metadata": {
  "language_info": {
   "name": "python"
  },
  "orig_nbformat": 4
 },
 "nbformat": 4,
 "nbformat_minor": 2
}
