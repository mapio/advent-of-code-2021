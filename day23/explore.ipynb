{
 "cells": [
  {
   "cell_type": "code",
   "execution_count": 104,
   "metadata": {},
   "outputs": [],
   "source": [
    "from collections import defaultdict\n",
    "\n",
    "import networkx as nx\n",
    "\n",
    "\"\"\"\n",
    "00 01 02 03 04 05 06 07 08 09 10\n",
    "      11    12    13    14\n",
    "      15    16    17    18\n",
    "      19    20    21    22\n",
    "      23    24    25    26\n",
    "\"\"\"\n",
    "\n",
    "IGNORE = frozenset({'#', '\\n', ' '})\n",
    "AMPHIPODS = frozenset('ABCD')\n",
    "DIAGFMT = ''.join('{}' if c == '.' else c for  p, c in enumerate('#############\\n#...........#\\n###.#.#.#.###\\n  #.#.#.#.#\\n  #########'))\n",
    "EDGES = (0, 1), (1, 2), (2, 3), (2, 11), (11, 15), (3, 4), (4, 5), (4, 12), (12, 16), (5, 6), (6, 7), (6, 13), (13, 17), (7, 8), (8, 9), (8, 14), (14, 18), (9, 10), (15, 19), (19, 23), (16, 20), (20, 24), (17, 21), (21, 25), (18, 22), (22, 26) \n",
    "FORBIDDEN = frozenset({2, 4, 6, 8})\n",
    "HALLWAY = frozenset({0, 1, 3, 5, 7, 9, 10})\n",
    "HOME = {\n",
    "  'A': frozenset({11, 15, 19, 23}),\n",
    "  'B': frozenset({12, 16, 20, 24}),\n",
    "  'C': frozenset({13, 17, 21, 25}),\n",
    "  'D': frozenset({14, 18, 22, 26}),\n",
    "}\n",
    "COST = dict(zip('ABCD', (1, 10, 100, 1000)))\n",
    "\n",
    "def diag2pos(diag):\n",
    "  a2n = defaultdict(int)\n",
    "  pos = dict()\n",
    "  for p, c in enumerate(c for c in diag if c not in IGNORE):\n",
    "    if c in AMPHIPODS:\n",
    "      n = a2n[c]\n",
    "      a2n[c] += 1\n",
    "      pos[f'{c}{n}'] = p\n",
    "  return tuple(pos.items())\n",
    "\n",
    "def pos2diag(pos):\n",
    "  arr = ['.'] * 19 \n",
    "  for a, p in pos: arr[p] = a[0]\n",
    "  return DIAGFMT.format(*arr)"
   ]
  },
  {
   "cell_type": "code",
   "execution_count": 105,
   "metadata": {},
   "outputs": [
    {
     "data": {
      "image/png": "[encoded data removed]",
      "text/plain": [
       "<Figure size 432x288 with 1 Axes>"
      ]
     },
     "metadata": {},
     "output_type": "display_data"
    }
   ],
   "source": [
    "GRAPH = nx.from_edgelist(EDGES)\n",
    "nx.drawing.draw(GRAPH, with_labels = True, node_color = 'yellow')\n",
    "PATHS = {frm: {to: frozenset(path[1:]) for to, path in paths.items() if to not in {frm} | FORBIDDEN} for frm, paths in nx.all_pairs_shortest_path(GRAPH)}"
   ]
  },
  {
   "cell_type": "code",
   "execution_count": 106,
   "metadata": {},
   "outputs": [],
   "source": [
    "from functools import lru_cache \n",
    "\n",
    "@lru_cache(maxsize = None)\n",
    "def next_steps(pos):\n",
    "  \n",
    "  pos = dict(pos)\n",
    "  sop = {v: k for k, v in pos.items()}\n",
    "  occupied = frozenset(pos.values())\n",
    "  res = []\n",
    "\n",
    "  def _next(amp):\n",
    "\n",
    "    a, n = amp\n",
    "    start = pos[amp]\n",
    "\n",
    "    at_home = set(sop[p][0] for p in HOME[a] if p in sop)\n",
    "    if start in HALLWAY:\n",
    "      if at_home <= {a}:\n",
    "        allowed = HOME[a] - occupied\n",
    "        if allowed: allowed = {max(allowed)}\n",
    "      else:\n",
    "        allowed = set()\n",
    "    else:\n",
    "      if at_home <= {a} and start in HOME[a]:\n",
    "        allowed = set()\n",
    "      else:\n",
    "        allowed = HALLWAY\n",
    "    \n",
    "    for to, path in PATHS[start].items():\n",
    "      if to in allowed and not path & occupied:\n",
    "        res.append((COST[a] * len(path), amp, to))\n",
    "\n",
    "  for amp in pos: _next(amp)\n",
    "  return res"
   ]
  },
  {
   "cell_type": "code",
   "execution_count": 109,
   "metadata": {},
   "outputs": [],
   "source": [
    "diag =\"\"\"\n",
    "#############\n",
    "#...........#\n",
    "###B#C#B#D###\n",
    "  #D#C#B#A#\n",
    "  #D#B#A#C#\n",
    "  #A#D#C#A#\n",
    "  #########\n",
    "\"\"\"\n",
    "\n",
    "diag = \"\"\"\n",
    "#############\n",
    "#...........#\n",
    "###D#C#B#C###\n",
    "  #D#C#B#A#\n",
    "  #D#B#A#C#\n",
    "  #D#A#A#B#\n",
    "  #########\n",
    "\"\"\""
   ]
  },
  {
   "cell_type": "code",
   "execution_count": 102,
   "metadata": {},
   "outputs": [
    {
     "name": "stdout",
     "output_type": "stream",
     "text": [
      "16741\n",
      "14741\n",
      "14541\n",
      "12541\n",
      "12539\n",
      "12521\n"
     ]
    }
   ],
   "source": [
    "MAX_COST = float('inf')\n",
    "\n",
    "def visit(pos, tot_cost):\n",
    "  global MAX_COST\n",
    "  if tot_cost > MAX_COST: return\n",
    "  ns = next_steps(pos)\n",
    "  if not (ns or any(p in HALLWAY for _, p in pos)):\n",
    "    if MAX_COST > tot_cost: \n",
    "      MAX_COST = tot_cost\n",
    "      print(tot_cost)\n",
    "  ns = sorted(ns)\n",
    "  for cost, amp, np in ns:\n",
    "    next_pos = dict(pos)\n",
    "    next_pos[amp] = np\n",
    "    visit(tuple(next_pos.items()), cost + tot_cost)\n",
    "\n",
    "pos = diag2pos(diag)\n",
    "visit(pos, 0)"
   ]
  },
  {
   "cell_type": "code",
   "execution_count": 62,
   "metadata": {},
   "outputs": [],
   "source": [
    "def clean(Q):\n",
    "  q0 = len(Q)\n",
    "  Qp = [(c, p) for c, p in Q if -c < MAX_COST]\n",
    "  qp = len(Qp)\n",
    "  if qp - q0 > 0: print('removed', qp - q0)\n",
    "  #heapify(Qp)\n",
    "  return Qp"
   ]
  },
  {
   "cell_type": "code",
   "execution_count": 111,
   "metadata": {},
   "outputs": [
    {
     "name": "stdout",
     "output_type": "stream",
     "text": [
      "48741 139\n",
      "48543 138\n",
      "48541 139\n"
     ]
    },
    {
     "ename": "KeyboardInterrupt",
     "evalue": "",
     "output_type": "error",
     "traceback": [
      "\u001b[0;31m---------------------------------------------------------------------------\u001b[0m",
      "\u001b[0;31mKeyboardInterrupt\u001b[0m                         Traceback (most recent call last)",
      "\u001b[0;32m/tmp/ipykernel_106048/1314253083.py\u001b[0m in \u001b[0;36m<module>\u001b[0;34m\u001b[0m\n\u001b[1;32m     14\u001b[0m       \u001b[0mprint\u001b[0m\u001b[0;34m(\u001b[0m\u001b[0mtot_cost\u001b[0m\u001b[0;34m,\u001b[0m \u001b[0mlen\u001b[0m\u001b[0;34m(\u001b[0m\u001b[0mQ\u001b[0m\u001b[0;34m)\u001b[0m\u001b[0;34m)\u001b[0m\u001b[0;34m\u001b[0m\u001b[0;34m\u001b[0m\u001b[0m\n\u001b[1;32m     15\u001b[0m   \u001b[0;32mfor\u001b[0m \u001b[0mcost\u001b[0m\u001b[0;34m,\u001b[0m \u001b[0mamp\u001b[0m\u001b[0;34m,\u001b[0m \u001b[0mnp\u001b[0m \u001b[0;32min\u001b[0m \u001b[0mns\u001b[0m\u001b[0;34m:\u001b[0m\u001b[0;34m\u001b[0m\u001b[0;34m\u001b[0m\u001b[0m\n\u001b[0;32m---> 16\u001b[0;31m     \u001b[0mnext_pos\u001b[0m \u001b[0;34m=\u001b[0m \u001b[0mdict\u001b[0m\u001b[0;34m(\u001b[0m\u001b[0mpos\u001b[0m\u001b[0;34m)\u001b[0m\u001b[0;34m\u001b[0m\u001b[0;34m\u001b[0m\u001b[0m\n\u001b[0m\u001b[1;32m     17\u001b[0m     \u001b[0mnext_pos\u001b[0m\u001b[0;34m[\u001b[0m\u001b[0mamp\u001b[0m\u001b[0;34m]\u001b[0m \u001b[0;34m=\u001b[0m \u001b[0mnp\u001b[0m\u001b[0;34m\u001b[0m\u001b[0;34m\u001b[0m\u001b[0m\n\u001b[1;32m     18\u001b[0m     \u001b[0;32mif\u001b[0m \u001b[0mtot_cost\u001b[0m\u001b[0;34m+\u001b[0m \u001b[0mcost\u001b[0m \u001b[0;34m<\u001b[0m \u001b[0mMAX_COST\u001b[0m\u001b[0;34m:\u001b[0m\u001b[0;34m\u001b[0m\u001b[0;34m\u001b[0m\u001b[0m\n",
      "\u001b[0;31mKeyboardInterrupt\u001b[0m: "
     ]
    }
   ],
   "source": [
    "from heapq import *\n",
    "\n",
    "MAX_COST = float('inf')\n",
    "\n",
    "Q = [(0, diag2pos(diag))]\n",
    "while Q:\n",
    "  tot_cost, pos = Q.pop()\n",
    "  tot_cost *= -1\n",
    "  ns = next_steps(pos)\n",
    "  if not (ns or any(p in HALLWAY for _, p in pos)):\n",
    "    if MAX_COST > tot_cost: \n",
    "      MAX_COST = tot_cost\n",
    "      #Q = clean(Q)\n",
    "      print(tot_cost, len(Q))\n",
    "  for cost, amp, np in ns:\n",
    "    next_pos = dict(pos)\n",
    "    next_pos[amp] = np\n",
    "    if tot_cost+ cost < MAX_COST:\n",
    "      Q.append((-(tot_cost+ cost), tuple(next_pos.items())))\n"
   ]
  },
  {
   "cell_type": "code",
   "execution_count": null,
   "metadata": {},
   "outputs": [],
   "source": []
  }
 ],
 "metadata": {
  "interpreter": {
   "hash": "951661e8b16609b08f07a63f32bd0b79714f53991e2f780ad63281a06733e1aa"
  },
  "kernelspec": {
   "display_name": "Python 3.8.10 64-bit ('10bdf519a364918e19bfdd94f3593783-aoc2021': venv)",
   "language": "python",
   "name": "python3"
  },
  "language_info": {
   "codemirror_mode": {
    "name": "ipython",
    "version": 3
   },
   "file_extension": ".py",
   "mimetype": "text/x-python",
   "name": "python",
   "nbconvert_exporter": "python",
   "pygments_lexer": "ipython3",
   "version": "3.8.10"
  },
  "orig_nbformat": 4
 },
 "nbformat": 4,
 "nbformat_minor": 2
}
