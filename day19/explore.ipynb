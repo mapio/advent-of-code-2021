{
 "cells": [
  {
   "cell_type": "code",
   "execution_count": 2,
   "metadata": {},
   "outputs": [],
   "source": [
    "from itertools import permutations, product\n",
    "import numpy as np\n",
    "from tqdm.autonotebook import tqdm, trange\n",
    "\n",
    "def rotmat():\n",
    "  for x, y, z in permutations([0, 1, 2]):\n",
    "    for sx, sy, sz in product([-1, 1], repeat=3):\n",
    "      R = np.zeros((3, 3))\n",
    "      R[0, x] = sx\n",
    "      R[1, y] = sy\n",
    "      R[2, z] = sz\n",
    "      if np.linalg.det(R) == 1: yield R\n",
    "\n",
    "def read(path):\n",
    "  scanners = []\n",
    "  with open(path) as inf:\n",
    "    scanner = []\n",
    "    for line in inf:\n",
    "      line = line.strip()\n",
    "      if not line: continue\n",
    "      if '--- scanner' in line:\n",
    "        if scanner: scanners.append(np.array(scanner))\n",
    "        scanner = []\n",
    "      else:\n",
    "        scanner.append(eval(line))\n",
    "  if scanner: scanners.append(np.array(scanner))      \n",
    "  return scanners\n",
    "\n",
    "Rs = list(rotmat())"
   ]
  },
  {
   "cell_type": "code",
   "execution_count": 3,
   "metadata": {},
   "outputs": [
    {
     "data": {
      "text/plain": [
       "5"
      ]
     },
     "execution_count": 3,
     "metadata": {},
     "output_type": "execute_result"
    }
   ],
   "source": [
    "SCANNERS = read('input0.txt')\n",
    "len(SCANNERS)"
   ]
  },
  {
   "cell_type": "code",
   "execution_count": 233,
   "metadata": {},
   "outputs": [
    {
     "data": {
      "text/plain": [
       "79"
      ]
     },
     "execution_count": 233,
     "metadata": {},
     "output_type": "execute_result"
    }
   ],
   "source": [
    "s0 = np.array([\n",
    "  [-618,-824,-621],\n",
    "  [-537,-823,-458],\n",
    "  [-447,-329,318],\n",
    "  [404,-588,-901],\n",
    "  [544,-627,-890],\n",
    "  [528,-643,409],\n",
    "  [-661,-816,-575],\n",
    "  [390,-675,-793],\n",
    "  [423,-701,434],\n",
    "  [-345,-311,381],\n",
    "  [459,-707,401],\n",
    "  [-485,-357,347]\n",
    "])\n",
    "s1 = np.array([\n",
    "  [686,422,578],\n",
    "  [605,423,415],\n",
    "  [515,917,-361],\n",
    "  [-336,658,858],\n",
    "  [-476,619,847],\n",
    "  [-460,603,-452],\n",
    "  [729,430,532],\n",
    "  [-322,571,750],\n",
    "  [-355,545,-477],\n",
    "  [413,935,-424],\n",
    "  [-391,539,-444],\n",
    "  [553,889,-390]\n",
    "])\n",
    "output = frozenset([\n",
    "  (-892,524,684),\n",
    "  (-876,649,763),\n",
    "  (-838,591,734),\n",
    "  (-789,900,-551),\n",
    "  (-739,-1745,668),\n",
    "  (-706,-3180,-659),\n",
    "  (-697,-3072,-689),\n",
    "  (-689,845,-530),\n",
    "  (-687,-1600,576),\n",
    "  (-661,-816,-575),\n",
    "  (-654,-3158,-753),\n",
    "  (-635,-1737,486),\n",
    "  (-631,-672,1502),\n",
    "  (-624,-1620,1868),\n",
    "  (-620,-3212,371),\n",
    "  (-618,-824,-621),\n",
    "  (-612,-1695,1788),\n",
    "  (-601,-1648,-643),\n",
    "  (-584,868,-557),\n",
    "  (-537,-823,-458),\n",
    "  (-532,-1715,1894),\n",
    "  (-518,-1681,-600),\n",
    "  (-499,-1607,-770),\n",
    "  (-485,-357,347),\n",
    "  (-470,-3283,303),\n",
    "  (-456,-621,1527),\n",
    "  (-447,-329,318),\n",
    "  (-430,-3130,366),\n",
    "  (-413,-627,1469),\n",
    "  (-345,-311,381),\n",
    "  (-36,-1284,1171),\n",
    "  (-27,-1108,-65),\n",
    "  (7,-33,-71),\n",
    "  (12,-2351,-103),\n",
    "  (26,-1119,1091),\n",
    "  (346,-2985,342),\n",
    "  (366,-3059,397),\n",
    "  (377,-2827,367),\n",
    "  (390,-675,-793),\n",
    "  (396,-1931,-563),\n",
    "  (404,-588,-901),\n",
    "  (408,-1815,803),\n",
    "  (423,-701,434),\n",
    "  (432,-2009,850),\n",
    "  (443,580,662),\n",
    "  (455,729,728),\n",
    "  (456,-540,1869),\n",
    "  (459,-707,401),\n",
    "  (465,-695,1988),\n",
    "  (474,580,667),\n",
    "  (496,-1584,1900),\n",
    "  (497,-1838,-617),\n",
    "  (527,-524,1933),\n",
    "  (528,-643,409),\n",
    "  (534,-1912,768),\n",
    "  (544,-627,-890),\n",
    "  (553,345,-567),\n",
    "  (564,392,-477),\n",
    "  (568,-2007,-577),\n",
    "  (605,-1665,1952),\n",
    "  (612,-1593,1893),\n",
    "  (630,319,-379),\n",
    "  (686,-3108,-505),\n",
    "  (776,-3184,-501),\n",
    "  (846,-3110,-434),\n",
    "  (1135,-1161,1235),\n",
    "  (1243,-1093,1063),\n",
    "  (1660,-552,429),\n",
    "  (1693,-557,386),\n",
    "  (1735,-437,1738),\n",
    "  (1749,-1800,1813),\n",
    "  (1772,-405,1572),\n",
    "  (1776,-675,371),\n",
    "  (1779,-442,1789),\n",
    "  (1780,-1548,337),\n",
    "  (1786,-1538,337),\n",
    "  (1847,-1591,415),\n",
    "  (1889,-1729,1762),\n",
    "  (1994,-1805,1792)\n",
    "])\n",
    "len(output)"
   ]
  },
  {
   "cell_type": "code",
   "execution_count": 21,
   "metadata": {},
   "outputs": [],
   "source": [
    "def as_set(arr):\n",
    "  return set(tuple(r) for r in arr)\n",
    "\n",
    "def tra_rot(t, s):\n",
    "  for s_row in s:\n",
    "    st = as_set(s - s_row)\n",
    "    for m in Rs:\n",
    "      r = (t @ m).astype(int)\n",
    "      for r_row in r:\n",
    "        i = st & as_set(r - r_row)\n",
    "        if len(i) >= 12: return s_row - r_row, m\n",
    "  return None, None\n",
    "\n",
    "def transf(frm, tra, rot):\n",
    "  return (tra + frm @ rot).astype(int)\n",
    "\n",
    "def intersect(s, t):\n",
    "  return np.array(list(as_set(s) & as_set(t)))\n",
    "\n",
    "def union(s, t):\n",
    "  return np.array(list(as_set(s) | as_set(t)))\n",
    "\n",
    "def invert(tra, rot):\n",
    "  rot = np.linalg.inv(rot)\n",
    "  tra = - tra.T @ rot \n",
    "  return tra, rot"
   ]
  },
  {
   "cell_type": "code",
   "execution_count": 24,
   "metadata": {},
   "outputs": [
    {
     "data": {
      "text/plain": [
       "array([[ 390, -675, -793],\n",
       "       [-345, -311,  381],\n",
       "       [ 404, -588, -901],\n",
       "       [ 459, -707,  401],\n",
       "       [-661, -816, -575],\n",
       "       [ 544, -627, -890],\n",
       "       [ 528, -643,  409],\n",
       "       [-485, -357,  347],\n",
       "       [-537, -823, -458],\n",
       "       [ 423, -701,  434],\n",
       "       [-618, -824, -621],\n",
       "       [-447, -329,  318]])"
      ]
     },
     "execution_count": 24,
     "metadata": {},
     "output_type": "execute_result"
    }
   ],
   "source": [
    "s, t = SCANNERS[1], SCANNERS[0]\n",
    "tra_st, rot_st = tra_rot(s, t)\n",
    "i_t = intersect(transf(s, tra_st, rot_st), t)\n",
    "i_t"
   ]
  },
  {
   "cell_type": "code",
   "execution_count": 7,
   "metadata": {},
   "outputs": [
    {
     "data": {
      "text/plain": [
       "array([[-476,  619,  847],\n",
       "       [-336,  658,  858],\n",
       "       [-391,  539, -444],\n",
       "       [ 729,  430,  532],\n",
       "       [-322,  571,  750],\n",
       "       [-355,  545, -477],\n",
       "       [ 605,  423,  415],\n",
       "       [ 515,  917, -361],\n",
       "       [ 553,  889, -390],\n",
       "       [ 686,  422,  578],\n",
       "       [ 413,  935, -424],\n",
       "       [-460,  603, -452]])"
      ]
     },
     "execution_count": 7,
     "metadata": {},
     "output_type": "execute_result"
    }
   ],
   "source": [
    "tra_ts, rot_ts = invert(tra_st, rot_st)\n",
    "i_s = intersect(transf(t, tra_ts, rot_ts), s)\n",
    "i_s"
   ]
  },
  {
   "cell_type": "code",
   "execution_count": 8,
   "metadata": {},
   "outputs": [
    {
     "data": {
      "text/plain": [
       "True"
      ]
     },
     "execution_count": 8,
     "metadata": {},
     "output_type": "execute_result"
    }
   ],
   "source": [
    "as_set(transf(i_t, tra_ts, rot_ts)) == as_set(i_s)"
   ]
  },
  {
   "cell_type": "code",
   "execution_count": 36,
   "metadata": {},
   "outputs": [
    {
     "name": "stdout",
     "output_type": "stream",
     "text": [
      "id\n",
      "1 -> 0\n",
      "[[ 390 -675 -793]\n",
      " [-345 -311  381]\n",
      " [ 404 -588 -901]\n",
      " [ 459 -707  401]\n",
      " [-661 -816 -575]\n",
      " [ 544 -627 -890]\n",
      " [ 528 -643  409]\n",
      " [-485 -357  347]\n",
      " [-537 -823 -458]\n",
      " [ 423 -701  434]\n",
      " [-618 -824 -621]\n",
      " [-447 -329  318]]\n",
      "1 -> 0\n",
      "id\n",
      "3 -> 1\n",
      "[[  534 -1912   768]\n",
      " [ -601 -1648  -643]\n",
      " [ -635 -1737   486]\n",
      " [  432 -2009   850]\n",
      " [  408 -1815   803]\n",
      " [ -499 -1607  -770]\n",
      " [  568 -2007  -577]\n",
      " [  497 -1838  -617]\n",
      " [ -687 -1600   576]\n",
      " [ -739 -1745   668]\n",
      " [  396 -1931  -563]\n",
      " [ -518 -1681  -600]]\n",
      "1 -> 0\n",
      "id\n",
      "4 -> 1\n",
      "[[  534 -1912   768]\n",
      " [  459  -707   401]\n",
      " [ -635 -1737   486]\n",
      " [  423  -701   434]\n",
      " [  432 -2009   850]\n",
      " [  408 -1815   803]\n",
      " [ -447  -329   318]\n",
      " [ -485  -357   347]\n",
      " [ -687 -1600   576]\n",
      " [ -739 -1745   668]\n",
      " [ -345  -311   381]\n",
      " [  528  -643   409]]\n",
      "4 -> 1\n",
      "1 -> 0\n",
      "id\n",
      "2 -> 4\n",
      "[[  459  -707   401]\n",
      " [  534 -1912   768]\n",
      " [  408 -1815   803]\n",
      " [  432 -2009   850]\n",
      " [  456  -540  1869]\n",
      " [  423  -701   434]\n",
      " [  496 -1584  1900]\n",
      " [  612 -1593  1893]\n",
      " [  527  -524  1933]\n",
      " [  528  -643   409]\n",
      " [  605 -1665  1952]\n",
      " [  465  -695  1988]]\n",
      "[array([[ 390, -675, -793],\n",
      "       [-345, -311,  381],\n",
      "       [ 404, -588, -901],\n",
      "       [ 459, -707,  401],\n",
      "       [-661, -816, -575],\n",
      "       [ 544, -627, -890],\n",
      "       [ 528, -643,  409],\n",
      "       [-485, -357,  347],\n",
      "       [-537, -823, -458],\n",
      "       [ 423, -701,  434],\n",
      "       [-618, -824, -621],\n",
      "       [-447, -329,  318]]), array([[  534, -1912,   768],\n",
      "       [ -601, -1648,  -643],\n",
      "       [ -635, -1737,   486],\n",
      "       [  432, -2009,   850],\n",
      "       [  408, -1815,   803],\n",
      "       [ -499, -1607,  -770],\n",
      "       [  568, -2007,  -577],\n",
      "       [  497, -1838,  -617],\n",
      "       [ -687, -1600,   576],\n",
      "       [ -739, -1745,   668],\n",
      "       [  396, -1931,  -563],\n",
      "       [ -518, -1681,  -600]]), array([[  534, -1912,   768],\n",
      "       [  459,  -707,   401],\n",
      "       [ -635, -1737,   486],\n",
      "       [  423,  -701,   434],\n",
      "       [  432, -2009,   850],\n",
      "       [  408, -1815,   803],\n",
      "       [ -447,  -329,   318],\n",
      "       [ -485,  -357,   347],\n",
      "       [ -687, -1600,   576],\n",
      "       [ -739, -1745,   668],\n",
      "       [ -345,  -311,   381],\n",
      "       [  528,  -643,   409]]), array([[  459,  -707,   401],\n",
      "       [  534, -1912,   768],\n",
      "       [  408, -1815,   803],\n",
      "       [  432, -2009,   850],\n",
      "       [  456,  -540,  1869],\n",
      "       [  423,  -701,   434],\n",
      "       [  496, -1584,  1900],\n",
      "       [  612, -1593,  1893],\n",
      "       [  527,  -524,  1933],\n",
      "       [  528,  -643,   409],\n",
      "       [  605, -1665,  1952],\n",
      "       [  465,  -695,  1988]])]\n"
     ]
    }
   ],
   "source": [
    "def compose(t, s, tra_ts, rot_ts, bt):\n",
    "  def _bt(i):\n",
    "    print(f'{t} -> {s}')\n",
    "    return bt(transf(i, tra_ts, rot_ts))\n",
    "  return _bt\n",
    "\n",
    "def tid(i):\n",
    "  print('id')\n",
    "  return i\n",
    "\n",
    "def visit(s, bt):\n",
    "  for t in set(range(len(SCANNERS))) - seen:\n",
    "    tra_ts, rot_ts = tra_rot(SCANNERS[t], SCANNERS[s])\n",
    "    if tra_ts is None: continue\n",
    "    i = bt(transf(SCANNERS[t], tra_ts, rot_ts))\n",
    "    print(f'{t} -> {s}')\n",
    "    print(i)\n",
    "    found.append(i)\n",
    "    seen.add(t)\n",
    "    visit(t, compose(t, s, tra_ts, rot_ts, bt))\n",
    "\n",
    "seen = set([0])\n",
    "found = []\n",
    "visit(0, tid)\n",
    "print(found)"
   ]
  },
  {
   "cell_type": "code",
   "execution_count": 34,
   "metadata": {},
   "outputs": [
    {
     "data": {
      "text/plain": [
       "30"
      ]
     },
     "execution_count": 34,
     "metadata": {},
     "output_type": "execute_result"
    }
   ],
   "source": [
    "res = set()\n",
    "for bs in found:\n",
    "  res |= as_set(bs)\n",
    "len(res)"
   ]
  },
  {
   "cell_type": "code",
   "execution_count": null,
   "metadata": {},
   "outputs": [],
   "source": []
  }
 ],
 "metadata": {
  "interpreter": {
   "hash": "951661e8b16609b08f07a63f32bd0b79714f53991e2f780ad63281a06733e1aa"
  },
  "kernelspec": {
   "display_name": "Python 3.8.10 64-bit ('10bdf519a364918e19bfdd94f3593783-aoc2021': venv)",
   "language": "python",
   "name": "python3"
  },
  "language_info": {
   "codemirror_mode": {
    "name": "ipython",
    "version": 3
   },
   "file_extension": ".py",
   "mimetype": "text/x-python",
   "name": "python",
   "nbconvert_exporter": "python",
   "pygments_lexer": "ipython3",
   "version": "3.8.10"
  },
  "orig_nbformat": 4
 },
 "nbformat": 4,
 "nbformat_minor": 2
}
