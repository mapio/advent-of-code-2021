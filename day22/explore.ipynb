{
 "cells": [
  {
   "cell_type": "code",
   "execution_count": 1,
   "metadata": {},
   "outputs": [],
   "source": [
    "from collections import defaultdict\n",
    "import matplotlib.pylab as plt\n",
    "import matplotlib.patches as mpatches\n",
    "from sol1 import read"
   ]
  },
  {
   "cell_type": "code",
   "execution_count": 68,
   "metadata": {},
   "outputs": [
    {
     "data": {
      "text/plain": [
       "(-105311.0, 103276.0)"
      ]
     },
     "execution_count": 68,
     "metadata": {},
     "output_type": "execute_result"
    },
    {
     "data": {
      "image/png": "[encoded data removed]",
      "text/plain": [
       "<Figure size 432x288 with 1 Axes>"
      ]
     },
     "metadata": {
      "needs_background": "light"
     },
     "output_type": "display_data"
    }
   ],
   "source": [
    "fig, ax = plt.subplots()\n",
    "minx, maxx, miny, maxy = 0, 0, 0, 0\n",
    "for on, _, rx, ry in res[:250]:\n",
    "  if rx[0] < minx: minx = rx[0]\n",
    "  if rx[1] > maxx: maxx = rx[1]\n",
    "  if ry[0] < miny: miny = ry[0]\n",
    "  if ry[1] > maxy: maxy = ry[1]\n",
    "  r = mpatches.Rectangle((ry[0], ry[0]), rx[1] - rx[0], ry[1] - ry[0], fill = False, edgecolor = 'g' if on else 'r')\n",
    "  ax.add_patch(r)\n",
    "b = 10000\n",
    "ax.set_xlim([minx - b, maxx + b])\n",
    "ax.set_ylim([miny - b, maxy + b])"
   ]
  },
  {
   "cell_type": "code",
   "execution_count": 41,
   "metadata": {},
   "outputs": [],
   "source": [
    "def bb(ranges):\n",
    "  return (\n",
    "    min(map(lambda _: _[1][0], ranges)),\n",
    "    max(map(lambda _: _[1][1], ranges)),\n",
    "    min(map(lambda _: _[2][0], ranges)),\n",
    "    max(map(lambda _: _[2][1], ranges)),\n",
    "    min(map(lambda _: _[3][0], ranges)),\n",
    "    max(map(lambda _: _[3][1], ranges))\n",
    "  )\n",
    "minx, maxx, miny, maxy, minz, maxz = bb(res)"
   ]
  },
  {
   "cell_type": "code",
   "execution_count": 44,
   "metadata": {},
   "outputs": [
    {
     "name": "stdout",
     "output_type": "stream",
     "text": [
      "(-94177, 96031, -98053, 96628, -96558, 99132)\n",
      "(-92783, 93836, -98053, 96628, -95311, 97600)\n",
      "(-94177, 96031, -90205, 92482, -96558, 99132)\n"
     ]
    }
   ],
   "source": [
    "print(bb(res))\n",
    "print(bb([r for r in res if r[0]]))\n",
    "print(bb([r for r in res if not r[0]]))"
   ]
  },
  {
   "cell_type": "code",
   "execution_count": 46,
   "metadata": {},
   "outputs": [],
   "source": [
    "data = read('input0a.txt')"
   ]
  },
  {
   "cell_type": "code",
   "execution_count": 47,
   "metadata": {},
   "outputs": [
    {
     "name": "stdout",
     "output_type": "stream",
     "text": [
      "3648320 3577512 3506896\n"
     ]
    }
   ],
   "source": [
    "x, y, z = 0, 0, 0\n",
    "for on, (x1, x2), (y1, y2), (z1, z2) in data:  \n",
    "  x += x2 - x1\n",
    "  y += y2 - y1\n",
    "  z += z2 - z1\n",
    "print(x, y, z)"
   ]
  },
  {
   "cell_type": "code",
   "execution_count": 41,
   "metadata": {},
   "outputs": [],
   "source": [
    "numon = 2_758_514_936_282_235"
   ]
  },
  {
   "cell_type": "code",
   "execution_count": 42,
   "metadata": {},
   "outputs": [],
   "source": [
    "from rect import Rectangle"
   ]
  },
  {
   "cell_type": "code",
   "execution_count": 43,
   "metadata": {},
   "outputs": [],
   "source": [
    "def add(D, s):\n",
    "  res = {s}  \n",
    "  for r in D: res.update(r - s)\n",
    "  return res\n",
    "\n",
    "def remove(D, s):\n",
    "  res = set()\n",
    "  for r in D: res.update(r - s)\n",
    "  return res"
   ]
  },
  {
   "cell_type": "code",
   "execution_count": 44,
   "metadata": {},
   "outputs": [
    {
     "name": "stdout",
     "output_type": "stream",
     "text": [
      "Rectangle(-5, -31, 48, 23)\n",
      "Rectangle(-44, -27, 6, 22)\n",
      "Rectangle(-49, -11, 0, 43)\n",
      "Rectangle(-20, -40, 35, 7)\n",
      "Rectangle(26, 40, 40, 51)\n",
      "Rectangle(-41, -41, 6, 7)\n",
      "Rectangle(-43, -45, -32, -27)\n",
      "Rectangle(-33, -32, 16, 20)\n",
      "Rectangle(35, -46, 48, -33)\n",
      "Rectangle(-14, -6, 37, 45)\n",
      "Rectangle(-57795, 29564, -6157, 72031)\n",
      "Rectangle(36731, -21140, 105353, 28533)\n",
      "Rectangle(30999, -53464, 107137, 15514)\n",
      "Rectangle(13528, -99403, 83983, -27376)\n",
      "Rectangle(-72682, 18159, -12346, 111355)\n",
      "Rectangle(-1060, -65301, 80758, -20883)\n",
      "Rectangle(-83015, -72160, -9460, -8346)\n",
      "Rectangle(-52752, -49450, 22274, 9097)\n",
      "Rectangle(-29982, -108474, 40484, -28370)\n",
      "Rectangle(-4958, 40422, 62751, 118854)\n",
      "Rectangle(55694, -43367, 108687, 46959)\n",
      "Rectangle(-98497, -63569, -18185, 3413)\n",
      "Rectangle(-726, -62629, 56292, 13225)\n",
      "Rectangle(-110886, -81338, -34663, -8657)\n",
      "Rectangle(-55829, -16897, 24975, 54166)\n",
      "Rectangle(-65152, 22489, -11146, 91433)\n",
      "Rectangle(-120100, -46592, -32969, 27474)\n",
      "Rectangle(-18631, -124565, 37534, -50803)\n",
      "Rectangle(-57817, 49321, 18249, 117704)\n",
      "Rectangle(14781, -1341, 98693, 70828)\n",
      "Rectangle(-34419, -19626, 55920, 40992)\n",
      "Rectangle(-60785, -56135, 11594, 3000)\n",
      "Rectangle(-32178, 17647, 58086, 101867)\n",
      "Rectangle(-53655, 50097, 12092, 105569)\n",
      "Rectangle(-111166, -71714, -40996, 2689)\n",
      "Rectangle(-16602, -98693, 70119, -44400)\n",
      "Rectangle(16383, 4615, 101555, 83636)\n",
      "Rectangle(-95822, -19987, -15170, 48941)\n",
      "Rectangle(-89813, 16069, -14613, 88492)\n",
      "Rectangle(41075, -20427, 99377, 49979)\n",
      "Rectangle(-21330, -17944, 50086, 62734)\n"
     ]
    },
    {
     "ename": "KeyboardInterrupt",
     "evalue": "",
     "output_type": "error",
     "traceback": [
      "\u001b[0;31m---------------------------------------------------------------------------\u001b[0m",
      "\u001b[0;31mKeyboardInterrupt\u001b[0m                         Traceback (most recent call last)",
      "\u001b[0;32m/tmp/ipykernel_510578/1178457167.py\u001b[0m in \u001b[0;36m<module>\u001b[0;34m\u001b[0m\n\u001b[1;32m      7\u001b[0m     \u001b[0mprint\u001b[0m\u001b[0;34m(\u001b[0m\u001b[0ms\u001b[0m\u001b[0;34m)\u001b[0m\u001b[0;34m\u001b[0m\u001b[0;34m\u001b[0m\u001b[0m\n\u001b[1;32m      8\u001b[0m   \u001b[0;32mfor\u001b[0m \u001b[0mz\u001b[0m \u001b[0;32min\u001b[0m \u001b[0mrange\u001b[0m\u001b[0;34m(\u001b[0m\u001b[0mz1\u001b[0m\u001b[0;34m,\u001b[0m \u001b[0mz2\u001b[0m \u001b[0;34m+\u001b[0m \u001b[0;36m1\u001b[0m\u001b[0;34m)\u001b[0m\u001b[0;34m:\u001b[0m\u001b[0;34m\u001b[0m\u001b[0;34m\u001b[0m\u001b[0m\n\u001b[0;32m----> 9\u001b[0;31m     \u001b[0mz2D\u001b[0m\u001b[0;34m[\u001b[0m\u001b[0mz\u001b[0m\u001b[0;34m]\u001b[0m \u001b[0;34m=\u001b[0m \u001b[0madd\u001b[0m\u001b[0;34m(\u001b[0m\u001b[0mz2D\u001b[0m\u001b[0;34m[\u001b[0m\u001b[0mz\u001b[0m\u001b[0;34m]\u001b[0m\u001b[0;34m,\u001b[0m \u001b[0ms\u001b[0m\u001b[0;34m)\u001b[0m \u001b[0;32mif\u001b[0m \u001b[0mon\u001b[0m \u001b[0;32melse\u001b[0m \u001b[0mremove\u001b[0m\u001b[0;34m(\u001b[0m\u001b[0mz2D\u001b[0m\u001b[0;34m[\u001b[0m\u001b[0mz\u001b[0m\u001b[0;34m]\u001b[0m\u001b[0;34m,\u001b[0m \u001b[0ms\u001b[0m\u001b[0;34m)\u001b[0m\u001b[0;34m\u001b[0m\u001b[0;34m\u001b[0m\u001b[0m\n\u001b[0m\u001b[1;32m     10\u001b[0m \u001b[0;34m\u001b[0m\u001b[0m\n\u001b[1;32m     11\u001b[0m \u001b[0mnum\u001b[0m \u001b[0;34m=\u001b[0m \u001b[0;36m0\u001b[0m\u001b[0;34m\u001b[0m\u001b[0;34m\u001b[0m\u001b[0m\n",
      "\u001b[0;32m/tmp/ipykernel_510578/4026772103.py\u001b[0m in \u001b[0;36madd\u001b[0;34m(D, s)\u001b[0m\n\u001b[1;32m      1\u001b[0m \u001b[0;32mdef\u001b[0m \u001b[0madd\u001b[0m\u001b[0;34m(\u001b[0m\u001b[0mD\u001b[0m\u001b[0;34m,\u001b[0m \u001b[0ms\u001b[0m\u001b[0;34m)\u001b[0m\u001b[0;34m:\u001b[0m\u001b[0;34m\u001b[0m\u001b[0;34m\u001b[0m\u001b[0m\n\u001b[1;32m      2\u001b[0m   \u001b[0mres\u001b[0m \u001b[0;34m=\u001b[0m \u001b[0;34m{\u001b[0m\u001b[0ms\u001b[0m\u001b[0;34m}\u001b[0m\u001b[0;34m\u001b[0m\u001b[0;34m\u001b[0m\u001b[0m\n\u001b[0;32m----> 3\u001b[0;31m   \u001b[0;32mfor\u001b[0m \u001b[0mr\u001b[0m \u001b[0;32min\u001b[0m \u001b[0mD\u001b[0m\u001b[0;34m:\u001b[0m \u001b[0mres\u001b[0m\u001b[0;34m.\u001b[0m\u001b[0mupdate\u001b[0m\u001b[0;34m(\u001b[0m\u001b[0mr\u001b[0m \u001b[0;34m-\u001b[0m \u001b[0ms\u001b[0m\u001b[0;34m)\u001b[0m\u001b[0;34m\u001b[0m\u001b[0;34m\u001b[0m\u001b[0m\n\u001b[0m\u001b[1;32m      4\u001b[0m   \u001b[0;32mreturn\u001b[0m \u001b[0mres\u001b[0m\u001b[0;34m\u001b[0m\u001b[0;34m\u001b[0m\u001b[0m\n\u001b[1;32m      5\u001b[0m \u001b[0;34m\u001b[0m\u001b[0m\n",
      "\u001b[0;32m~/Documents/Activities/Programming/aoc2021/day22/rect.py\u001b[0m in \u001b[0;36m__sub__\u001b[0;34m(self, other)\u001b[0m\n\u001b[1;32m     54\u001b[0m             \u001b[0;32mif\u001b[0m \u001b[0mself\u001b[0m\u001b[0;34m.\u001b[0m\u001b[0my1\u001b[0m \u001b[0;34m<\u001b[0m \u001b[0mother\u001b[0m\u001b[0;34m.\u001b[0m\u001b[0my2\u001b[0m \u001b[0;34m<\u001b[0m \u001b[0mself\u001b[0m\u001b[0;34m.\u001b[0m\u001b[0my2\u001b[0m\u001b[0;34m:\u001b[0m\u001b[0;34m\u001b[0m\u001b[0;34m\u001b[0m\u001b[0m\n\u001b[1;32m     55\u001b[0m                 \u001b[0my\u001b[0m\u001b[0;34m.\u001b[0m\u001b[0madd\u001b[0m\u001b[0;34m(\u001b[0m\u001b[0mother\u001b[0m\u001b[0;34m.\u001b[0m\u001b[0my2\u001b[0m\u001b[0;34m)\u001b[0m\u001b[0;34m\u001b[0m\u001b[0;34m\u001b[0m\u001b[0m\n\u001b[0;32m---> 56\u001b[0;31m             for (x1, x2), (y1, y2) in product(pairwise(sorted(x)),\n\u001b[0m\u001b[1;32m     57\u001b[0m                                               pairwise(sorted(y))):\n\u001b[1;32m     58\u001b[0m                 \u001b[0minstance\u001b[0m \u001b[0;34m=\u001b[0m \u001b[0mtype\u001b[0m\u001b[0;34m(\u001b[0m\u001b[0mself\u001b[0m\u001b[0;34m)\u001b[0m\u001b[0;34m(\u001b[0m\u001b[0mx1\u001b[0m\u001b[0;34m,\u001b[0m \u001b[0my1\u001b[0m\u001b[0;34m,\u001b[0m \u001b[0mx2\u001b[0m\u001b[0;34m,\u001b[0m \u001b[0my2\u001b[0m\u001b[0;34m)\u001b[0m\u001b[0;34m\u001b[0m\u001b[0;34m\u001b[0m\u001b[0m\n",
      "\u001b[0;31mKeyboardInterrupt\u001b[0m: "
     ]
    }
   ],
   "source": [
    "z2D = defaultdict(set)\n",
    "\n",
    "for on, (x1, x2), (y1, y2), (z1, z2) in data[:-2]:  \n",
    "  s = Rectangle(x1, y1, x2 + 1, y2 + 1)\n",
    "  for z in range(z1, z2 + 1):\n",
    "    z2D[z] = add(z2D[z], s) if on else remove(z2D[z], s)\n",
    "\n",
    "num = 0\n",
    "for D in z2D.values():\n",
    "  for r in D:\n",
    "    num += r.area\n",
    "print(num)"
   ]
  },
  {
   "cell_type": "code",
   "execution_count": null,
   "metadata": {},
   "outputs": [],
   "source": []
  },
  {
   "cell_type": "code",
   "execution_count": null,
   "metadata": {},
   "outputs": [],
   "source": []
  }
 ],
 "metadata": {
  "interpreter": {
   "hash": "951661e8b16609b08f07a63f32bd0b79714f53991e2f780ad63281a06733e1aa"
  },
  "kernelspec": {
   "display_name": "Python 3.8.10 64-bit ('10bdf519a364918e19bfdd94f3593783-aoc2021': venv)",
   "language": "python",
   "name": "python3"
  },
  "language_info": {
   "codemirror_mode": {
    "name": "ipython",
    "version": 3
   },
   "file_extension": ".py",
   "mimetype": "text/x-python",
   "name": "python",
   "nbconvert_exporter": "python",
   "pygments_lexer": "ipython3",
   "version": "3.8.10"
  },
  "orig_nbformat": 4
 },
 "nbformat": 4,
 "nbformat_minor": 2
}
